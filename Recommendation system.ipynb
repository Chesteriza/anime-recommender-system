{
 "cells": [
  {
   "cell_type": "code",
   "execution_count": 1,
   "metadata": {},
   "outputs": [],
   "source": [
    "import pandas as pd\n",
    "import spacy\n",
    "import re\n",
    "import numpy as np\n",
    "from tqdm import tqdm\n",
    "\n",
    "from nltk.tokenize import word_tokenize\n",
    "from sklearn.feature_extraction.text import CountVectorizer\n",
    "from sklearn.metrics.pairwise import cosine_similarity"
   ]
  },
  {
   "cell_type": "markdown",
   "metadata": {},
   "source": [
    "### Anime Recommendations Database\n",
    "This exercise is based on Kaggle Anime Recommendation that was hosted in 2017. To make things more relevant for us, we will also practice some webscraping to update the information in the original dataset. Additionally, we will also see if we can extract more information to improve our recommendation system. \n",
    "\n",
    "For more information on how the web scraping was done, please explore the scraping folder. You can find the dataset we obtained from scraping in the data folder. \n"
   ]
  },
  {
   "cell_type": "markdown",
   "metadata": {},
   "source": [
    "### Pre-processing of data scraped \n",
    "We have previously scraped the anime information from the popular anime website. As the original data is from HTML format, we will have to perform some pre-processing to clean the text before performing text analytics to extract features that we can use for content-based recommendation system. We will also map the names from the original kaggle dataset to our scraped data as we did not scrape the anime names."
   ]
  },
  {
   "cell_type": "code",
   "execution_count": 2,
   "metadata": {},
   "outputs": [
    {
     "data": {
      "text/html": [
       "<div>\n",
       "<style scoped>\n",
       "    .dataframe tbody tr th:only-of-type {\n",
       "        vertical-align: middle;\n",
       "    }\n",
       "\n",
       "    .dataframe tbody tr th {\n",
       "        vertical-align: top;\n",
       "    }\n",
       "\n",
       "    .dataframe thead th {\n",
       "        text-align: right;\n",
       "    }\n",
       "</style>\n",
       "<table border=\"1\" class=\"dataframe\">\n",
       "  <thead>\n",
       "    <tr style=\"text-align: right;\">\n",
       "      <th></th>\n",
       "      <th>Name</th>\n",
       "      <th>Duration</th>\n",
       "      <th>Episode</th>\n",
       "      <th>Fav</th>\n",
       "      <th>Genre</th>\n",
       "      <th>ID</th>\n",
       "      <th>Image</th>\n",
       "      <th>Member</th>\n",
       "      <th>Producer</th>\n",
       "      <th>Rating</th>\n",
       "      <th>Score</th>\n",
       "      <th>Source</th>\n",
       "      <th>Status</th>\n",
       "      <th>Studio</th>\n",
       "      <th>Synopsis</th>\n",
       "      <th>Type</th>\n",
       "    </tr>\n",
       "  </thead>\n",
       "  <tbody>\n",
       "    <tr>\n",
       "      <th>0</th>\n",
       "      <td>Kimi no Na wa.</td>\n",
       "      <td>1 hr. 46 min.</td>\n",
       "      <td>1</td>\n",
       "      <td>53100.0</td>\n",
       "      <td>Romance, Supernatural, School, Drama</td>\n",
       "      <td>32281</td>\n",
       "      <td>https://cdn.myanimelist.net/images/anime/5/870...</td>\n",
       "      <td>1132783</td>\n",
       "      <td>Toho, Sound Team Don Juan, Lawson HMV Entertai...</td>\n",
       "      <td>PG-13 - Teens 13 or older</td>\n",
       "      <td>9.09</td>\n",
       "      <td>Original</td>\n",
       "      <td>Finished Airing</td>\n",
       "      <td>CoMix Wave Films</td>\n",
       "      <td>['Mitsuha Miyamizu, a high school girl, yearns...</td>\n",
       "      <td>Movie</td>\n",
       "    </tr>\n",
       "    <tr>\n",
       "      <th>1</th>\n",
       "      <td>Fullmetal Alchemist: Brotherhood</td>\n",
       "      <td>24 min. per ep.</td>\n",
       "      <td>64</td>\n",
       "      <td>139870.0</td>\n",
       "      <td>Action, Military, Adventure, Comedy, Drama, Ma...</td>\n",
       "      <td>5114</td>\n",
       "      <td>https://cdn.myanimelist.net/images/anime/1223/...</td>\n",
       "      <td>1609015</td>\n",
       "      <td>Aniplex, Square Enix, Mainichi Broadcasting Sy...</td>\n",
       "      <td>R - 17+ (violence &amp; profanity)</td>\n",
       "      <td>9.23</td>\n",
       "      <td>Manga</td>\n",
       "      <td>Finished Airing</td>\n",
       "      <td>Bones</td>\n",
       "      <td>['\"In order for something to be obtained, some...</td>\n",
       "      <td>TV</td>\n",
       "    </tr>\n",
       "    <tr>\n",
       "      <th>2</th>\n",
       "      <td>Gintama°</td>\n",
       "      <td>24 min. per ep.</td>\n",
       "      <td>51</td>\n",
       "      <td>7556.0</td>\n",
       "      <td>Action, Comedy, Historical, Parody, Samurai, S...</td>\n",
       "      <td>28977</td>\n",
       "      <td>https://cdn.myanimelist.net/images/anime/3/720...</td>\n",
       "      <td>280325</td>\n",
       "      <td>TV Tokyo, Aniplex, Dentsu</td>\n",
       "      <td>PG-13 - Teens 13 or older</td>\n",
       "      <td>9.05</td>\n",
       "      <td>Manga</td>\n",
       "      <td>Finished Airing</td>\n",
       "      <td>Bandai Namco Pictures</td>\n",
       "      <td>[\"Gintoki, Shinpachi, and Kagura return as the...</td>\n",
       "      <td>TV</td>\n",
       "    </tr>\n",
       "  </tbody>\n",
       "</table>\n",
       "</div>"
      ],
      "text/plain": [
       "                               Name         Duration Episode       Fav  \\\n",
       "0                    Kimi no Na wa.    1 hr. 46 min.       1   53100.0   \n",
       "1  Fullmetal Alchemist: Brotherhood  24 min. per ep.      64  139870.0   \n",
       "2                          Gintama°  24 min. per ep.      51    7556.0   \n",
       "\n",
       "                                               Genre     ID  \\\n",
       "0               Romance, Supernatural, School, Drama  32281   \n",
       "1  Action, Military, Adventure, Comedy, Drama, Ma...   5114   \n",
       "2  Action, Comedy, Historical, Parody, Samurai, S...  28977   \n",
       "\n",
       "                                               Image   Member  \\\n",
       "0  https://cdn.myanimelist.net/images/anime/5/870...  1132783   \n",
       "1  https://cdn.myanimelist.net/images/anime/1223/...  1609015   \n",
       "2  https://cdn.myanimelist.net/images/anime/3/720...   280325   \n",
       "\n",
       "                                            Producer  \\\n",
       "0  Toho, Sound Team Don Juan, Lawson HMV Entertai...   \n",
       "1  Aniplex, Square Enix, Mainichi Broadcasting Sy...   \n",
       "2                          TV Tokyo, Aniplex, Dentsu   \n",
       "\n",
       "                           Rating  Score    Source           Status  \\\n",
       "0       PG-13 - Teens 13 or older   9.09  Original  Finished Airing   \n",
       "1  R - 17+ (violence & profanity)   9.23     Manga  Finished Airing   \n",
       "2       PG-13 - Teens 13 or older   9.05     Manga  Finished Airing   \n",
       "\n",
       "                  Studio                                           Synopsis  \\\n",
       "0       CoMix Wave Films  ['Mitsuha Miyamizu, a high school girl, yearns...   \n",
       "1                  Bones  ['\"In order for something to be obtained, some...   \n",
       "2  Bandai Namco Pictures  [\"Gintoki, Shinpachi, and Kagura return as the...   \n",
       "\n",
       "    Type  \n",
       "0  Movie  \n",
       "1     TV  \n",
       "2     TV  "
      ]
     },
     "execution_count": 2,
     "metadata": {},
     "output_type": "execute_result"
    }
   ],
   "source": [
    "file_path = r\"C:\\Users\\chest\\Desktop\\Projects\\Anime Recommendation\\data\"\n",
    "anime = pd.read_csv(file_path + \"\\\\anime_scraped.csv\", index_col=0)\n",
    "anime.ID = anime.ID.astype(\"int32\")\n",
    "anime.Member = anime.Member.astype(\"int32\")\n",
    "anime.Genre = anime.Genre.astype(\"str\")\n",
    "\n",
    "#original dataset \n",
    "anime_original = pd.read_csv(file_path + \"\\\\anime.csv\", index_col=0)\n",
    "\n",
    "#Get anime names based on index\n",
    "anime.insert(0, \"Name\",anime_original.loc[anime.ID, \"name\"].values)\n",
    "anime.head(3)"
   ]
  },
  {
   "cell_type": "markdown",
   "metadata": {},
   "source": [
    "We will now convert the duration from string format into number of seconds. The duration is a useful feature as we presume some users might be more interested in shorter or longer animes."
   ]
  },
  {
   "cell_type": "code",
   "execution_count": 3,
   "metadata": {},
   "outputs": [
    {
     "data": {
      "text/html": [
       "<div>\n",
       "<style scoped>\n",
       "    .dataframe tbody tr th:only-of-type {\n",
       "        vertical-align: middle;\n",
       "    }\n",
       "\n",
       "    .dataframe tbody tr th {\n",
       "        vertical-align: top;\n",
       "    }\n",
       "\n",
       "    .dataframe thead th {\n",
       "        text-align: right;\n",
       "    }\n",
       "</style>\n",
       "<table border=\"1\" class=\"dataframe\">\n",
       "  <thead>\n",
       "    <tr style=\"text-align: right;\">\n",
       "      <th></th>\n",
       "      <th>ID</th>\n",
       "      <th>Duration_Sec</th>\n",
       "    </tr>\n",
       "  </thead>\n",
       "  <tbody>\n",
       "    <tr>\n",
       "      <th>0</th>\n",
       "      <td>32281</td>\n",
       "      <td>6360</td>\n",
       "    </tr>\n",
       "    <tr>\n",
       "      <th>1</th>\n",
       "      <td>5114</td>\n",
       "      <td>1440</td>\n",
       "    </tr>\n",
       "    <tr>\n",
       "      <th>2</th>\n",
       "      <td>28977</td>\n",
       "      <td>1440</td>\n",
       "    </tr>\n",
       "  </tbody>\n",
       "</table>\n",
       "</div>"
      ],
      "text/plain": [
       "      ID  Duration_Sec\n",
       "0  32281          6360\n",
       "1   5114          1440\n",
       "2  28977          1440"
      ]
     },
     "execution_count": 3,
     "metadata": {},
     "output_type": "execute_result"
    }
   ],
   "source": [
    "anime = anime.assign(hours = anime[\"Duration\"].str.extract(r\"(\\d+)(?=\\s+hr\\.)\"),\n",
    "                     mins = anime[\"Duration\"].str.extract(r\"(\\d+)(?=\\s+min\\.)\"),\n",
    "                     secs = anime[\"Duration\"].str.extract(r\"(\\d+)(?=\\s+sec\\.)\"))\n",
    "anime.loc[:,['hours', 'mins', 'secs']] = anime.loc[:,['hours', 'mins', 'secs']].fillna(0)\n",
    "anime.loc[:,['hours', 'mins', 'secs']] = anime.loc[:,['hours', 'mins', 'secs']].apply(pd.to_numeric)\n",
    "anime[\"Duration_Sec\"] = anime.loc[:,['hours', 'mins', 'secs']].apply(lambda x: (x.hours * 3600) + (x.mins * 60) + x.secs, axis=1)\n",
    "anime = anime.drop([\"Duration\", \"hours\", \"mins\", \"secs\"], axis=1)\n",
    "\n",
    "anime.loc[[0,1,2], [\"ID\", \"Duration_Sec\"]]"
   ]
  },
  {
   "cell_type": "markdown",
   "metadata": {},
   "source": [
    "We will now clean up the synopsis column which will be used to extract features for the recommendation system. There are still some imperfections in the dataset after cleaning. For instance, instead of the writer signing off with a bracket or paranthesis, the sign off is done in the form of a sentence. To clean off such variation can be very time consuming and might not be worth the effort."
   ]
  },
  {
   "cell_type": "code",
   "execution_count": 4,
   "metadata": {},
   "outputs": [],
   "source": [
    "#pre-processing synopsis text (Text used in content based recommendation system)\n",
    "anime[\"Synopsis_clean\"] = anime[\"Synopsis\"].apply(lambda x: re.sub(r\"(^\\W+)\", \"\", x))  \n",
    "anime[\"Synopsis_clean\"] = anime[\"Synopsis_clean\"].apply(lambda x: re.sub(r\"(\\[.+\\]$)\", \"\", x)) # remove end writer\n",
    "anime[\"Synopsis_clean\"] = anime[\"Synopsis_clean\"].apply(lambda x: re.sub(r\"\\\\r\", \"\", x)) # remove carriage return\n",
    "anime[\"Synopsis_clean\"] = anime[\"Synopsis_clean\"].apply(lambda x: re.sub(r\"\\\\n\", \"\", x)) # remove new lines\n",
    "anime[\"Synopsis_clean\"] = anime[\"Synopsis_clean\"].apply(lambda x: re.sub(r'\"', \"\", x))\n",
    "anime[\"Synopsis_clean\"] = anime[\"Synopsis_clean\"].apply(lambda x: re.sub(r\"'\", \"\", x))\n",
    "anime[\"Synopsis_clean\"] = anime[\"Synopsis_clean\"].apply(lambda x: re.sub(r\"\\\\\", \"\", x))\n",
    "anime[\"Synopsis_clean\"] = anime[\"Synopsis_clean\"].apply(lambda x: re.sub(r\",\", \"\", x))\n",
    "anime[\"Synopsis_clean\"] = anime[\"Synopsis_clean\"].apply(lambda x: re.sub(r\"\\(.+\\)\\]$\", \"\", x)) # remove end writer in ()"
   ]
  },
  {
   "cell_type": "markdown",
   "metadata": {},
   "source": [
    "<u>Original synopsis before cleaning</u>"
   ]
  },
  {
   "cell_type": "code",
   "execution_count": 5,
   "metadata": {},
   "outputs": [
    {
     "data": {
      "text/plain": [
       "'[\\'The self-proclaimed mad scientist Rintarou Okabe rents out a room in a rickety old building in Akihabara, where he indulges himself in his hobby of inventing prospective \"future gadgets\" with fellow lab members: Mayuri Shiina, his air-headed childhood friend, and Hashida Itaru, a perverted hacker nicknamed \"Daru.\" The three pass the time by tinkering with their most promising contraption yet, a machine dubbed the \"Phone Microwave,\" which performs the strange function of morphing bananas into piles of green gel.\\', \\'\\\\r\\\\n\\', \"\\\\r\\\\nThough miraculous in itself, the phenomenon doesn\\'t provide anything concrete in Okabe\\'s search for a scientific breakthrough; that is, until the lab members are spurred into action by a string of mysterious happenings before stumbling upon an unexpected success—the Phone Microwave can send emails to the past, altering the flow of history.\", \\'\\\\r\\\\n\\', \\'\\\\r\\\\nAdapted from the critically acclaimed visual novel by 5pb. and Nitroplus, \\', \\' takes Okabe through the depths of scientific theory and practicality. Forced across the diverging threads of past and present, Okabe must shoulder the burdens that come with holding the key to the realm of time.\\', \\'\\\\r\\\\n\\', \\'\\\\r\\\\n[Written by MAL Rewrite]\\']'"
      ]
     },
     "execution_count": 5,
     "metadata": {},
     "output_type": "execute_result"
    }
   ],
   "source": [
    "anime.loc[3, \"Synopsis\"]"
   ]
  },
  {
   "cell_type": "markdown",
   "metadata": {},
   "source": [
    "<u>Synopsis after cleaning</u>"
   ]
  },
  {
   "cell_type": "code",
   "execution_count": 6,
   "metadata": {},
   "outputs": [
    {
     "data": {
      "text/plain": [
       "'The self-proclaimed mad scientist Rintarou Okabe rents out a room in a rickety old building in Akihabara where he indulges himself in his hobby of inventing prospective future gadgets with fellow lab members: Mayuri Shiina his air-headed childhood friend and Hashida Itaru a perverted hacker nicknamed Daru. The three pass the time by tinkering with their most promising contraption yet a machine dubbed the Phone Microwave which performs the strange function of morphing bananas into piles of green gel.  Though miraculous in itself the phenomenon doesnt provide anything concrete in Okabes search for a scientific breakthrough; that is until the lab members are spurred into action by a string of mysterious happenings before stumbling upon an unexpected success—the Phone Microwave can send emails to the past altering the flow of history.  Adapted from the critically acclaimed visual novel by 5pb. and Nitroplus   takes Okabe through the depths of scientific theory and practicality. Forced across the diverging threads of past and present Okabe must shoulder the burdens that come with holding the key to the realm of time.  '"
      ]
     },
     "execution_count": 6,
     "metadata": {},
     "output_type": "execute_result"
    }
   ],
   "source": [
    "anime.loc[3, \"Synopsis_clean\"]"
   ]
  },
  {
   "cell_type": "markdown",
   "metadata": {},
   "source": [
    "To make the text analytics in the next step more efficient, we will be removing synopsis that are either empty or have minimal information. We will plot a histogram to get a sense of the frequency distribution of the number of words. There is a significant group of anime with synopsis word count less than 30. Thus, we will use a threshold of 15 to remove anime that we believe have minimal information in their synopsis to be relevant to the context-based system."
   ]
  },
  {
   "cell_type": "code",
   "execution_count": 7,
   "metadata": {},
   "outputs": [
    {
     "data": {
      "image/png": "[encoded data removed]",
      "text/plain": [
       "<Figure size 432x288 with 1 Axes>"
      ]
     },
     "metadata": {
      "needs_background": "light"
     },
     "output_type": "display_data"
    }
   ],
   "source": [
    "anime[\"Synopsis_count\"] = anime[\"Synopsis_clean\"].apply(lambda x: len(word_tokenize(x)))\n",
    "anime[\"Synopsis_count\"].plot.hist(bins=20, \n",
    "                                  xticks=[i for i in range(30,350,30)],\n",
    "                                  title=\"Histogram of word-count of synopsis\")\n",
    "content_anime = anime[anime[\"Synopsis_count\"] >= 15]"
   ]
  },
  {
   "cell_type": "markdown",
   "metadata": {},
   "source": [
    "### Using Spacy to perform text analytics task\n",
    "Spacy is a NLP package that has a variety of functions from vector similarity to POS tagging. Vector similarity is based on tha a pre-trained model downloaded from Spacy. There are 3 versions, namely, small, medium and large. The larger the pre-trained model, the better the results but at the expense of longer computational time.\n",
    "\n",
    "We will be using Spacy for POS tagging and NER. The features from POS tagging and NER will be used to help us build our recommendation system. This is a slight twist to the general content-based system where text is pre-processed and transformed into a matrix of tf-idf. One of the drawback of the general content-based system is a sparse matrix. A sparse matrix leads to computational inefficiency and also lower effectiveness. In the event where there is very limited overlapping words, the recommendation system will be ineffective for such a word-of-bag method.\n",
    "\n",
    "Alternatively, We will try to re-create a matrix with features that we obtained from POS tagging NER. The outcome that we hope to achieve through this process is to create a denser representation. "
   ]
  },
  {
   "cell_type": "markdown",
   "metadata": {},
   "source": [
    "The following is a demo of what is going underneath the hood for the feature extraction.\n",
    "\n",
    "1. Extract NER that we think are insightful.\n",
    "2. Extract words that are tagged as NOUN, VERB and ADJ.\n",
    "3. Lemmatize the features \n",
    "\n",
    "As mentioned earlier that larger model tend to perform better, try running both the small model and medium model. You will notice that the results of the NER model changes. For this exercise, we will not be using large due to limited computational power on my local machine."
   ]
  },
  {
   "cell_type": "code",
   "execution_count": 8,
   "metadata": {},
   "outputs": [
    {
     "data": {
      "text/plain": [
       "Mitsuha Miyamizu a high school girl yearns to live the life of a boy in the bustling city of Tokyo—a dream that stands in stark contrast to her present life in the countryside. Meanwhile in the city Taki Tachibana lives a busy life as a high school student while juggling his part-time job and hopes for a future in architecture.  One day Mitsuha awakens in a room that is not her own and suddenly finds herself living the dream life in Tokyo—but in Takis body! Elsewhere Taki finds himself living Mitsuhas life in the humble countryside. In pursuit of an answer to this strange phenomenon they begin to search for one another.    revolves around Mitsuha and Takis actions which begin to have a dramatic impact on each others lives weaving them into a fabric held together by fate and circumstance.  "
      ]
     },
     "execution_count": 8,
     "metadata": {},
     "output_type": "execute_result"
    }
   ],
   "source": [
    "# Initiate Spacy Object\n",
    "nlp = spacy.load(\"en_core_web_md\")\n",
    "doc = nlp(anime.loc[0, \"Synopsis_clean\"])\n",
    "doc"
   ]
  },
  {
   "cell_type": "code",
   "execution_count": 9,
   "metadata": {},
   "outputs": [
    {
     "data": {
      "text/plain": [
       "'Tokyo Tokyo Takis'"
      ]
     },
     "execution_count": 9,
     "metadata": {},
     "output_type": "execute_result"
    }
   ],
   "source": [
    "ner_body = [] \n",
    "meaningful_ner = [\"GPE\", \"NORP\", \"EVENT\", \"LOC\", \"LANGUAGE\", \n",
    "                  \"ORG\", \"PRODUCT\", \"FAC\", \"LAW\", \"WORK_OF_ART\"]\n",
    "for ent in doc.ents: \n",
    "    if ent.label_ in meaningful_ner:\n",
    "        ner_body.append(ent.text)\n",
    "\" \".join(ner_body)"
   ]
  },
  {
   "cell_type": "code",
   "execution_count": 10,
   "metadata": {},
   "outputs": [
    {
     "data": {
      "text/plain": [
       "'high school girl yearns live life boy bustling city dream stands stark contrast present life countryside city lives busy life high school student juggling part time job hopes future architecture day awakens room own finds living dream life body finds living life humble countryside pursuit answer strange phenomenon begin search revolves actions begin dramatic impact others lives weaving fabric held fate circumstance'"
      ]
     },
     "execution_count": 10,
     "metadata": {},
     "output_type": "execute_result"
    }
   ],
   "source": [
    "pos_body = []\n",
    "for token in doc:\n",
    "    if token.pos_ in [\"NOUN\", \"ADJ\", \"VERB\"]:\n",
    "        pos_body.append(token.text) # To only extract Verb, Noun, ADJ\n",
    "\" \".join(pos_body) # For illustration on the notebook, we will cut short the pos_body"
   ]
  },
  {
   "cell_type": "code",
   "execution_count": 11,
   "metadata": {},
   "outputs": [
    {
     "data": {
      "text/plain": [
       "'high school girl yearn live life boy bustle city dream stand stark contrast present life countryside city live busy life high school student juggling part time job hope future architecture day awaken room own find living dream life body find live life humble countryside pursuit answer strange phenomenon begin search revolve action begin dramatic impact other live weave fabric hold fate circumstance'"
      ]
     },
     "execution_count": 11,
     "metadata": {},
     "output_type": "execute_result"
    }
   ],
   "source": [
    "doc = nlp(\" \".join(pos_body))\n",
    "\" \".join([token.lemma_ for token in doc])"
   ]
  },
  {
   "cell_type": "markdown",
   "metadata": {},
   "source": [
    "### Using Genre Tags as part of the content feature matrix \n",
    "Genre words will be added into the bag of words that we have created from above. Genre words could carry imply the type of anime and could be a useful gauge of similarity on top of the feature words that we have used. The genre words would also serve as a baseline for comparison for animes that have very little feature words present. There are missing genre as the genre has not been updated on the anime website. This step could be integrated into the extraction above to save time.\n",
    "\n"
   ]
  },
  {
   "cell_type": "code",
   "execution_count": 12,
   "metadata": {},
   "outputs": [
    {
     "data": {
      "text/plain": [
       "dict_keys(['Romance', 'Supernatural', 'School', 'Drama', 'Action', 'Military', 'Adventure', 'Comedy', 'Magic', 'Fantasy', 'Shounen', 'Historical', 'Parody', 'Samurai', 'Sci-Fi', 'Thriller', 'Sports', 'Super Power', 'Space', 'Slice of Life', 'Mecha', 'Music', 'Mystery', 'Seinen', 'Martial Arts', 'Vampire', 'Demons', 'Shoujo', 'Horror', 'Police', 'Psychological', 'Ecchi', 'Josei', 'Shounen Ai', 'Game', 'Dementia', 'Harem', 'Cars', 'Kids', 'Shoujo Ai', 'nan', 'Hentai', 'Yaoi', 'Yuri'])"
      ]
     },
     "execution_count": 12,
     "metadata": {},
     "output_type": "execute_result"
    }
   ],
   "source": [
    "# List of Genre \n",
    "genre_dict= {}\n",
    "for genre_str in anime.Genre:\n",
    "    genre_list = genre_str.split(\",\")\n",
    "    for genre in genre_list:\n",
    "        genre_trim = genre.strip() \n",
    "        if genre_trim in genre_dict.keys():\n",
    "            genre_dict[genre_trim] += 1\n",
    "        else:\n",
    "            genre_dict[genre_trim]=1\n",
    "genre_dict.keys()"
   ]
  },
  {
   "cell_type": "code",
   "execution_count": 13,
   "metadata": {},
   "outputs": [
    {
     "name": "stderr",
     "output_type": "stream",
     "text": [
      "0it [00:00, ?it/s]C:\\Users\\chest\\Anaconda3\\lib\\site-packages\\pandas\\core\\indexing.py:376: SettingWithCopyWarning: \n",
      "A value is trying to be set on a copy of a slice from a DataFrame.\n",
      "Try using .loc[row_indexer,col_indexer] = value instead\n",
      "\n",
      "See the caveats in the documentation: http://pandas.pydata.org/pandas-docs/stable/user_guide/indexing.html#returning-a-view-versus-a-copy\n",
      "  self.obj[key] = _infer_fill_value(value)\n",
      "C:\\Users\\chest\\Anaconda3\\lib\\site-packages\\pandas\\core\\indexing.py:494: SettingWithCopyWarning: \n",
      "A value is trying to be set on a copy of a slice from a DataFrame.\n",
      "Try using .loc[row_indexer,col_indexer] = value instead\n",
      "\n",
      "See the caveats in the documentation: http://pandas.pydata.org/pandas-docs/stable/user_guide/indexing.html#returning-a-view-versus-a-copy\n",
      "  self.obj[item] = s\n",
      "9700it [03:56, 40.99it/s]\n"
     ]
    }
   ],
   "source": [
    "for ind, row in tqdm(content_anime.iterrows()):\n",
    "    doc_features = []\n",
    "    synopsis = row.Synopsis_clean\n",
    "    genre = \" \".join(row.Genre.split(\",\"))\n",
    "    doc = nlp(synopsis)\n",
    "    for ent in doc.ents: \n",
    "        if ent.label_ in meaningful_ner:\n",
    "            doc_features.append(ent.text)\n",
    "    for token in doc:\n",
    "        if token.pos_ in [\"NOUN\", \"ADJ\", \"VERB\"]:\n",
    "            doc_features.append(token.text) # To only extract Verb, Noun, ADJ\n",
    "    doc_features = \" \".join(doc_features)\n",
    "    doc = nlp(doc_features)\n",
    "    synopsis_features = \" \".join([token.lemma_ for token in doc]) + \" \" + genre\n",
    "    content_anime.loc[ind, \"synopsis_features\"] = synopsis_features.lower()\n",
    "    "
   ]
  },
  {
   "cell_type": "code",
   "execution_count": 14,
   "metadata": {},
   "outputs": [
    {
     "data": {
      "text/plain": [
       "'tokyo tokyo takis high school girl yearn live life boy bustle city dream stand stark contrast present life countryside city live busy life high school student juggling part time job hope future architecture day awaken room own find living dream life body find live life humble countryside pursuit answer strange phenomenon begin search revolve action begin dramatic impact other live weave fabric hold fate circumstance romance  supernatural  school  drama'"
      ]
     },
     "execution_count": 14,
     "metadata": {},
     "output_type": "execute_result"
    }
   ],
   "source": [
    "content_anime.synopsis_features[0]"
   ]
  },
  {
   "cell_type": "markdown",
   "metadata": {},
   "source": [
    "### Creating content-based matrix\n",
    "We will use a count-occurence of the words that we have extracted with spacy model. A simple CountVectorizer is used instead of a TfidfVectorizer. There are several genres that commonly occurs and we do not intend to downscale such genre as each genre should be equally important in describing the anime, assuming the genre is rightly fitted. Additionally, we believe that the features that we have extracted are informative and there is no need to normalize it through Tfidf. We will use cosine similarity as a measure of how similar are the animes.\n"
   ]
  },
  {
   "cell_type": "code",
   "execution_count": 15,
   "metadata": {},
   "outputs": [],
   "source": [
    "content_anime.reset_index(drop=True, inplace=True)\n",
    "count_vec = CountVectorizer()\n",
    "count_matrix = count_vec.fit_transform(content_anime.synopsis_features)\n",
    "count_matrix.shape\n",
    "\n",
    "cosine_sim = cosine_similarity(count_matrix, count_matrix)"
   ]
  },
  {
   "cell_type": "code",
   "execution_count": 16,
   "metadata": {},
   "outputs": [],
   "source": [
    "# Function that takes in anime title or ID as input and outputs most similar movies\n",
    "def get_recommendations(anime_id, df = content_anime, sim_matrix=cosine_sim, top_n=10):\n",
    "    # Check whether it is anime title or ID\n",
    "    if type(anime_id) == int:\n",
    "        content_index = df.index[df.ID == anime_id]\n",
    "        \n",
    "    if type(anime_id) == str:\n",
    "        content_index = df.index[df.Name == anime_id]\n",
    "\n",
    "    ## Extract pair-wise similarity based on idx\n",
    "    sim_scores = cosine_sim[content_index]\n",
    "    sim_scores = sim_scores.reshape((9700,1))\n",
    "    \n",
    "    ## Convert into dataframe \n",
    "    sim_df = pd.DataFrame(sim_scores, columns=[\"Similarity Value\"], index=[i for i in range((len(sim_scores)))])\n",
    "    sim_df = sim_df.sort_values(by=[\"Similarity Value\"], ascending=False)\n",
    "    sim_df = sim_df[1:(top_n+1)] #starting point to 1 to remove referenced anime_id\n",
    "    \n",
    "    # Map the index of sim_df into names into content_anime\n",
    "    sim_df.insert(loc=0, value=df.loc[sim_df.index, \"Name\"], column=\"Name\")\n",
    "    sim_df.insert(loc=0, value=df.loc[sim_df.index, \"ID\"], column=\"ID\")\n",
    "    sim_df.ID = sim_df.ID.astype(\"int32\")\n",
    "    \n",
    "    return sim_df"
   ]
  },
  {
   "cell_type": "markdown",
   "metadata": {},
   "source": [
    "### Evaluating the results of recommendation\n",
    "Lets take a look at the recommendations and see if the recommendation system is able to provide a meaningful recommendation. We will include referenced anime in the similarity dataframe for the convenience. To remove it, please edit the indices in the get_recommendation function. Based on the results, we believe that Genre and NER are strong classifiers in the model. Although POS tags are meaningful, they often are sparse as lemmatization could not semantically group them. This might be solved through clustering of those POS-tag words based on pre-trained word-embeddings."
   ]
  },
  {
   "cell_type": "code",
   "execution_count": 17,
   "metadata": {},
   "outputs": [
    {
     "name": "stdout",
     "output_type": "stream",
     "text": [
      "0    Recommendations for Kimi no Na wa.\n",
      "Name: Name, dtype: object\n"
     ]
    },
    {
     "data": {
      "text/html": [
       "<div>\n",
       "<style scoped>\n",
       "    .dataframe tbody tr th:only-of-type {\n",
       "        vertical-align: middle;\n",
       "    }\n",
       "\n",
       "    .dataframe tbody tr th {\n",
       "        vertical-align: top;\n",
       "    }\n",
       "\n",
       "    .dataframe thead th {\n",
       "        text-align: right;\n",
       "    }\n",
       "</style>\n",
       "<table border=\"1\" class=\"dataframe\">\n",
       "  <thead>\n",
       "    <tr style=\"text-align: right;\">\n",
       "      <th></th>\n",
       "      <th>ID</th>\n",
       "      <th>Name</th>\n",
       "      <th>Similarity Value</th>\n",
       "    </tr>\n",
       "  </thead>\n",
       "  <tbody>\n",
       "    <tr>\n",
       "      <th>2504</th>\n",
       "      <td>17741</td>\n",
       "      <td>Kimi no Iru Machi</td>\n",
       "      <td>0.491754</td>\n",
       "    </tr>\n",
       "    <tr>\n",
       "      <th>1950</th>\n",
       "      <td>390</td>\n",
       "      <td>Suzuka</td>\n",
       "      <td>0.488868</td>\n",
       "    </tr>\n",
       "    <tr>\n",
       "      <th>2149</th>\n",
       "      <td>16742</td>\n",
       "      <td>Watashi ga Motenai no wa Dou Kangaetemo Omaera...</td>\n",
       "      <td>0.485394</td>\n",
       "    </tr>\n",
       "    <tr>\n",
       "      <th>4595</th>\n",
       "      <td>13283</td>\n",
       "      <td>One Off</td>\n",
       "      <td>0.420827</td>\n",
       "    </tr>\n",
       "    <tr>\n",
       "      <th>977</th>\n",
       "      <td>14967</td>\n",
       "      <td>Boku wa Tomodachi ga Sukunai Next</td>\n",
       "      <td>0.414609</td>\n",
       "    </tr>\n",
       "    <tr>\n",
       "      <th>555</th>\n",
       "      <td>14741</td>\n",
       "      <td>Chuunibyou demo Koi ga Shitai!</td>\n",
       "      <td>0.407122</td>\n",
       "    </tr>\n",
       "    <tr>\n",
       "      <th>4034</th>\n",
       "      <td>1810</td>\n",
       "      <td>Kyoushirou to Towa no Sora</td>\n",
       "      <td>0.396394</td>\n",
       "    </tr>\n",
       "    <tr>\n",
       "      <th>8685</th>\n",
       "      <td>32447</td>\n",
       "      <td>Nora to Oujo to Noraneko Heart</td>\n",
       "      <td>0.395090</td>\n",
       "    </tr>\n",
       "    <tr>\n",
       "      <th>314</th>\n",
       "      <td>16918</td>\n",
       "      <td>Gin no Saji</td>\n",
       "      <td>0.393730</td>\n",
       "    </tr>\n",
       "    <tr>\n",
       "      <th>4348</th>\n",
       "      <td>23121</td>\n",
       "      <td>Jinsei</td>\n",
       "      <td>0.392878</td>\n",
       "    </tr>\n",
       "  </tbody>\n",
       "</table>\n",
       "</div>"
      ],
      "text/plain": [
       "         ID                                               Name  \\\n",
       "2504  17741                                  Kimi no Iru Machi   \n",
       "1950    390                                             Suzuka   \n",
       "2149  16742  Watashi ga Motenai no wa Dou Kangaetemo Omaera...   \n",
       "4595  13283                                            One Off   \n",
       "977   14967                  Boku wa Tomodachi ga Sukunai Next   \n",
       "555   14741                     Chuunibyou demo Koi ga Shitai!   \n",
       "4034   1810                         Kyoushirou to Towa no Sora   \n",
       "8685  32447                     Nora to Oujo to Noraneko Heart   \n",
       "314   16918                                        Gin no Saji   \n",
       "4348  23121                                             Jinsei   \n",
       "\n",
       "      Similarity Value  \n",
       "2504          0.491754  \n",
       "1950          0.488868  \n",
       "2149          0.485394  \n",
       "4595          0.420827  \n",
       "977           0.414609  \n",
       "555           0.407122  \n",
       "4034          0.396394  \n",
       "8685          0.395090  \n",
       "314           0.393730  \n",
       "4348          0.392878  "
      ]
     },
     "execution_count": 17,
     "metadata": {},
     "output_type": "execute_result"
    }
   ],
   "source": [
    "anime_id = 32281\n",
    "print(\"Recommendations for \" + content_anime[content_anime.ID == anime_id].Name)\n",
    "\n",
    "recommendations = get_recommendations(anime_id)\n",
    "recommendations"
   ]
  },
  {
   "cell_type": "code",
   "execution_count": null,
   "metadata": {},
   "outputs": [],
   "source": []
  }
 ],
 "metadata": {
  "kernelspec": {
   "display_name": "Python 3",
   "language": "python",
   "name": "python3"
  },
  "language_info": {
   "codemirror_mode": {
    "name": "ipython",
    "version": 3
   },
   "file_extension": ".py",
   "mimetype": "text/x-python",
   "name": "python",
   "nbconvert_exporter": "python",
   "pygments_lexer": "ipython3",
   "version": "3.7.3"
  }
 },
 "nbformat": 4,
 "nbformat_minor": 2
}
